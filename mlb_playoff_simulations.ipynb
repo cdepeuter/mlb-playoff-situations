{
 "cells": [
  {
   "cell_type": "code",
   "execution_count": 103,
   "metadata": {},
   "outputs": [],
   "source": [
    "import pandas as pd\n",
    "import numpy as np\n",
    "import json\n",
    "import statsapi\n",
    "from tqdm.notebook import tqdm\n",
    "import statistics\n",
    "import datetime\n",
    "import matplotlib.pyplot as plt\n"
   ]
  },
  {
   "cell_type": "code",
   "execution_count": 2,
   "metadata": {},
   "outputs": [
    {
     "name": "stdout",
     "output_type": "stream",
     "text": [
      "num games: 2431\n"
     ]
    }
   ],
   "source": [
    "sched = statsapi.schedule(start_date='2020-03-23', end_date='2020-12-31',)\n",
    "print(f\"num games: {len(sched)}\")"
   ]
  },
  {
   "cell_type": "code",
   "execution_count": 109,
   "metadata": {},
   "outputs": [
    {
     "data": {
      "text/html": [
       "<div>\n",
       "<style scoped>\n",
       "    .dataframe tbody tr th:only-of-type {\n",
       "        vertical-align: middle;\n",
       "    }\n",
       "\n",
       "    .dataframe tbody tr th {\n",
       "        vertical-align: top;\n",
       "    }\n",
       "\n",
       "    .dataframe thead th {\n",
       "        text-align: right;\n",
       "    }\n",
       "</style>\n",
       "<table border=\"1\" class=\"dataframe\">\n",
       "  <thead>\n",
       "    <tr style=\"text-align: right;\">\n",
       "      <th></th>\n",
       "      <th>game_id</th>\n",
       "      <th>game_datetime</th>\n",
       "      <th>game_date</th>\n",
       "      <th>game_type</th>\n",
       "      <th>status</th>\n",
       "      <th>away_name</th>\n",
       "      <th>home_name</th>\n",
       "      <th>away_id</th>\n",
       "      <th>home_id</th>\n",
       "      <th>doubleheader</th>\n",
       "      <th>...</th>\n",
       "      <th>home_probable_pitcher</th>\n",
       "      <th>away_probable_pitcher</th>\n",
       "      <th>home_pitcher_note</th>\n",
       "      <th>away_pitcher_note</th>\n",
       "      <th>away_score</th>\n",
       "      <th>home_score</th>\n",
       "      <th>current_inning</th>\n",
       "      <th>inning_state</th>\n",
       "      <th>summary</th>\n",
       "      <th>game_datetime_obj</th>\n",
       "    </tr>\n",
       "  </thead>\n",
       "  <tbody>\n",
       "    <tr>\n",
       "      <th>0</th>\n",
       "      <td>605422</td>\n",
       "      <td>2020-03-26T17:10:00Z</td>\n",
       "      <td>2020-03-26</td>\n",
       "      <td>R</td>\n",
       "      <td>Postponed</td>\n",
       "      <td>Washington Nationals</td>\n",
       "      <td>New York Mets</td>\n",
       "      <td>120</td>\n",
       "      <td>121</td>\n",
       "      <td>N</td>\n",
       "      <td>...</td>\n",
       "      <td></td>\n",
       "      <td></td>\n",
       "      <td></td>\n",
       "      <td></td>\n",
       "      <td>0</td>\n",
       "      <td>0</td>\n",
       "      <td></td>\n",
       "      <td></td>\n",
       "      <td>2020-03-26 - Washington Nationals @ New York M...</td>\n",
       "      <td>2020-03-26</td>\n",
       "    </tr>\n",
       "    <tr>\n",
       "      <th>1</th>\n",
       "      <td>604457</td>\n",
       "      <td>2020-03-26T17:10:00Z</td>\n",
       "      <td>2020-03-26</td>\n",
       "      <td>R</td>\n",
       "      <td>Postponed</td>\n",
       "      <td>Detroit Tigers</td>\n",
       "      <td>Cleveland Indians</td>\n",
       "      <td>116</td>\n",
       "      <td>114</td>\n",
       "      <td>N</td>\n",
       "      <td>...</td>\n",
       "      <td></td>\n",
       "      <td></td>\n",
       "      <td></td>\n",
       "      <td></td>\n",
       "      <td>0</td>\n",
       "      <td>0</td>\n",
       "      <td></td>\n",
       "      <td></td>\n",
       "      <td>2020-03-26 - Detroit Tigers @ Cleveland Indian...</td>\n",
       "      <td>2020-03-26</td>\n",
       "    </tr>\n",
       "    <tr>\n",
       "      <th>2</th>\n",
       "      <td>604265</td>\n",
       "      <td>2020-03-26T18:10:00Z</td>\n",
       "      <td>2020-03-26</td>\n",
       "      <td>R</td>\n",
       "      <td>Postponed</td>\n",
       "      <td>Kansas City Royals</td>\n",
       "      <td>Chicago White Sox</td>\n",
       "      <td>118</td>\n",
       "      <td>145</td>\n",
       "      <td>N</td>\n",
       "      <td>...</td>\n",
       "      <td></td>\n",
       "      <td></td>\n",
       "      <td></td>\n",
       "      <td></td>\n",
       "      <td>0</td>\n",
       "      <td>0</td>\n",
       "      <td></td>\n",
       "      <td></td>\n",
       "      <td>2020-03-26 - Kansas City Royals @ Chicago Whit...</td>\n",
       "      <td>2020-03-26</td>\n",
       "    </tr>\n",
       "    <tr>\n",
       "      <th>3</th>\n",
       "      <td>605229</td>\n",
       "      <td>2020-03-26T18:10:00Z</td>\n",
       "      <td>2020-03-26</td>\n",
       "      <td>R</td>\n",
       "      <td>Postponed</td>\n",
       "      <td>Chicago Cubs</td>\n",
       "      <td>Milwaukee Brewers</td>\n",
       "      <td>112</td>\n",
       "      <td>158</td>\n",
       "      <td>N</td>\n",
       "      <td>...</td>\n",
       "      <td></td>\n",
       "      <td></td>\n",
       "      <td></td>\n",
       "      <td></td>\n",
       "      <td>0</td>\n",
       "      <td>0</td>\n",
       "      <td></td>\n",
       "      <td></td>\n",
       "      <td>2020-03-26 - Chicago Cubs @ Milwaukee Brewers ...</td>\n",
       "      <td>2020-03-26</td>\n",
       "    </tr>\n",
       "    <tr>\n",
       "      <th>4</th>\n",
       "      <td>603974</td>\n",
       "      <td>2020-03-26T19:05:00Z</td>\n",
       "      <td>2020-03-26</td>\n",
       "      <td>R</td>\n",
       "      <td>Postponed</td>\n",
       "      <td>New York Yankees</td>\n",
       "      <td>Baltimore Orioles</td>\n",
       "      <td>147</td>\n",
       "      <td>110</td>\n",
       "      <td>N</td>\n",
       "      <td>...</td>\n",
       "      <td></td>\n",
       "      <td></td>\n",
       "      <td></td>\n",
       "      <td></td>\n",
       "      <td>0</td>\n",
       "      <td>0</td>\n",
       "      <td></td>\n",
       "      <td></td>\n",
       "      <td>2020-03-26 - New York Yankees @ Baltimore Orio...</td>\n",
       "      <td>2020-03-26</td>\n",
       "    </tr>\n",
       "  </tbody>\n",
       "</table>\n",
       "<p>5 rows × 21 columns</p>\n",
       "</div>"
      ],
      "text/plain": [
       "   game_id         game_datetime   game_date game_type     status  \\\n",
       "0   605422  2020-03-26T17:10:00Z  2020-03-26         R  Postponed   \n",
       "1   604457  2020-03-26T17:10:00Z  2020-03-26         R  Postponed   \n",
       "2   604265  2020-03-26T18:10:00Z  2020-03-26         R  Postponed   \n",
       "3   605229  2020-03-26T18:10:00Z  2020-03-26         R  Postponed   \n",
       "4   603974  2020-03-26T19:05:00Z  2020-03-26         R  Postponed   \n",
       "\n",
       "              away_name          home_name  away_id  home_id doubleheader  \\\n",
       "0  Washington Nationals      New York Mets      120      121            N   \n",
       "1        Detroit Tigers  Cleveland Indians      116      114            N   \n",
       "2    Kansas City Royals  Chicago White Sox      118      145            N   \n",
       "3          Chicago Cubs  Milwaukee Brewers      112      158            N   \n",
       "4      New York Yankees  Baltimore Orioles      147      110            N   \n",
       "\n",
       "   ...  home_probable_pitcher away_probable_pitcher home_pitcher_note  \\\n",
       "0  ...                                                                  \n",
       "1  ...                                                                  \n",
       "2  ...                                                                  \n",
       "3  ...                                                                  \n",
       "4  ...                                                                  \n",
       "\n",
       "  away_pitcher_note away_score home_score current_inning inning_state  \\\n",
       "0                            0          0                               \n",
       "1                            0          0                               \n",
       "2                            0          0                               \n",
       "3                            0          0                               \n",
       "4                            0          0                               \n",
       "\n",
       "                                             summary game_datetime_obj  \n",
       "0  2020-03-26 - Washington Nationals @ New York M...        2020-03-26  \n",
       "1  2020-03-26 - Detroit Tigers @ Cleveland Indian...        2020-03-26  \n",
       "2  2020-03-26 - Kansas City Royals @ Chicago Whit...        2020-03-26  \n",
       "3  2020-03-26 - Chicago Cubs @ Milwaukee Brewers ...        2020-03-26  \n",
       "4  2020-03-26 - New York Yankees @ Baltimore Orio...        2020-03-26  \n",
       "\n",
       "[5 rows x 21 columns]"
      ]
     },
     "execution_count": 109,
     "metadata": {},
     "output_type": "execute_result"
    }
   ],
   "source": [
    "sched_df = pd.DataFrame.from_records(sched)\n",
    "sched_df[\"game_datetime_obj\"] = sched_df.game_date.map(lambda x: datetime.datetime.strptime(x, '%Y-%m-%d'))\n",
    "sched_df.head()"
   ]
  },
  {
   "cell_type": "code",
   "execution_count": null,
   "metadata": {},
   "outputs": [],
   "source": []
  },
  {
   "cell_type": "code",
   "execution_count": 4,
   "metadata": {},
   "outputs": [],
   "source": [
    "all_teams = set(g['home_name'] for g in sched if not 'all-stars' in g['home_name'].lower())"
   ]
  },
  {
   "cell_type": "code",
   "execution_count": null,
   "metadata": {},
   "outputs": [],
   "source": []
  },
  {
   "cell_type": "code",
   "execution_count": 267,
   "metadata": {},
   "outputs": [],
   "source": [
    "## from fangraphs -- a few slight tweaks to get initial playoff probabilites aligned\n",
    "vegas_wins = {\n",
    "    'Los Angeles Angels': 83,\n",
    "    'Houston Astros': 97,\n",
    "    'Oakland Athletics': 88,\n",
    "    'Toronto Blue Jays': 75,\n",
    "    'Atlanta Braves': 87,\n",
    "    'Milwaukee Brewers': 81,\n",
    "    'St. Louis Cardinals': 80,\n",
    "    'Chicago Cubs': 85,\n",
    "    'Arizona Diamondbacks': 79,\n",
    "    'Los Angeles Dodgers': 100,\n",
    "    'San Francisco Giants': 69,\n",
    "    'Cleveland Indians': 87,\n",
    "    'Seattle Mariners': 65,\n",
    "    'Miami Marlins': 67,\n",
    "    'New York Mets': 84, \n",
    "    'Washington Nationals': 92,\n",
    "    'Baltimore Orioles': 59,\n",
    "    'San Diego Padres': 84,\n",
    "    'Philadelphia Phillies': 79,\n",
    "    'Pittsburgh Pirates': 70,\n",
    "    'Texas Rangers': 79,\n",
    "    'Tampa Bay Rays': 92,\n",
    "    'Boston Red Sox': 86,\n",
    "    'Cincinnati Reds': 82,\n",
    "    'Colorado Rockies': 75,\n",
    "    'Detroit Tigers': 67,\n",
    "    'Minnesota Twins': 91,\n",
    "    'Chicago White Sox': 85,\n",
    "    'New York Yankees': 96,\n",
    "    'Kansas City Royals':72\n",
    "}\n",
    "\n",
    "mean_team_strength = np.mean(list(vegas_wins.values()))\n",
    "min_wins = min(vegas_wins.values())\n",
    "max_wins = max(vegas_wins.values())\n"
   ]
  },
  {
   "cell_type": "code",
   "execution_count": 253,
   "metadata": {},
   "outputs": [],
   "source": [
    "# adjustment var to normalize team wins\n",
    "TS_ADJUST = 18\n",
    "\n",
    "# get relative win strength\n",
    "team_strengths = {t: int(((vegas_wins[t] - min_wins + TS_ADJUST) / (max_wins - min_wins + TS_ADJUST * 4))*1000) for t in all_teams}\n"
   ]
  },
  {
   "cell_type": "code",
   "execution_count": 244,
   "metadata": {},
   "outputs": [
    {
     "data": {
      "text/plain": [
       "{'New York Yankees': 719,\n",
       " 'New York Mets': 535,\n",
       " 'Chicago White Sox': 509,\n",
       " 'Arizona Diamondbacks': 490,\n",
       " 'Oakland Athletics': 573,\n",
       " 'St. Louis Cardinals': 560,\n",
       " 'Boston Red Sox': 566,\n",
       " 'Atlanta Braves': 605,\n",
       " 'Chicago Cubs': 528,\n",
       " 'Kansas City Royals': 254,\n",
       " 'San Francisco Giants': 337,\n",
       " 'Houston Astros': 668,\n",
       " 'Colorado Rockies': 375,\n",
       " 'Seattle Mariners': 292,\n",
       " 'Washington Nationals': 573,\n",
       " 'San Diego Padres': 490,\n",
       " 'Los Angeles Angels': 522,\n",
       " 'Baltimore Orioles': 140,\n",
       " 'Los Angeles Dodgers': 694,\n",
       " 'Cleveland Indians': 528,\n",
       " 'Milwaukee Brewers': 496,\n",
       " 'Cincinnati Reds': 496,\n",
       " 'Miami Marlins': 242,\n",
       " 'Detroit Tigers': 140,\n",
       " 'Pittsburgh Pirates': 331,\n",
       " 'Toronto Blue Jays': 401,\n",
       " 'Minnesota Twins': 585,\n",
       " 'Texas Rangers': 433,\n",
       " 'Philadelphia Phillies': 522,\n",
       " 'Tampa Bay Rays': 579}"
      ]
     },
     "execution_count": 244,
     "metadata": {},
     "output_type": "execute_result"
    }
   ],
   "source": [
    "team_strengths"
   ]
  },
  {
   "cell_type": "code",
   "execution_count": 193,
   "metadata": {},
   "outputs": [],
   "source": [
    "def home_win_probabilities(h, a):\n",
    "    \"\"\"\n",
    "    Home win o/u / Total o/u wins for each team \n",
    "    \"\"\"\n",
    "    home_strength = team_strengths[h]\n",
    "    away_strength = team_strengths[a]\n",
    "    \n",
    "    total_strength = home_strength + away_strength\n",
    "    \n",
    "    return home_strength / total_strength\n",
    "    \n",
    "def simulate_game(game):\n",
    "    home_team = game['home_name']\n",
    "    away_team = game['away_name']\n",
    "    home_team_p = home_win_probabilities(home_team, away_team)\n",
    "    \n",
    "    home_win = np.random.rand() < home_team_p\n",
    "    \n",
    "    if home_win:\n",
    "        return home_team\n",
    "    return away_team\n",
    "\n",
    "\n"
   ]
  },
  {
   "cell_type": "code",
   "execution_count": 195,
   "metadata": {},
   "outputs": [],
   "source": [
    "standings_resp = statsapi.standings_data()\n",
    "\n",
    "division_standings = {}\n",
    "for div_num in standings_resp:\n",
    "    division_standings[standings_resp[div_num]['div_name']] = pd.DataFrame.from_records(standings_resp[div_num]['teams'])\n",
    "    division_standings[standings_resp[div_num]['div_name']][\"division\"] = standings_resp[div_num]['div_name']\n",
    "    division_standings[standings_resp[div_num]['div_name']][\"league\"] = standings_resp[div_num]['div_name'].rsplit(\" \", 1)[0]"
   ]
  },
  {
   "cell_type": "code",
   "execution_count": 196,
   "metadata": {},
   "outputs": [
    {
     "data": {
      "text/html": [
       "<div>\n",
       "<style scoped>\n",
       "    .dataframe tbody tr th:only-of-type {\n",
       "        vertical-align: middle;\n",
       "    }\n",
       "\n",
       "    .dataframe tbody tr th {\n",
       "        vertical-align: top;\n",
       "    }\n",
       "\n",
       "    .dataframe thead th {\n",
       "        text-align: right;\n",
       "    }\n",
       "</style>\n",
       "<table border=\"1\" class=\"dataframe\">\n",
       "  <thead>\n",
       "    <tr style=\"text-align: right;\">\n",
       "      <th></th>\n",
       "      <th>name</th>\n",
       "      <th>division</th>\n",
       "      <th>league</th>\n",
       "    </tr>\n",
       "  </thead>\n",
       "  <tbody>\n",
       "    <tr>\n",
       "      <th>0</th>\n",
       "      <td>Houston Astros</td>\n",
       "      <td>American League West</td>\n",
       "      <td>American League</td>\n",
       "    </tr>\n",
       "    <tr>\n",
       "      <th>1</th>\n",
       "      <td>Los Angeles Angels</td>\n",
       "      <td>American League West</td>\n",
       "      <td>American League</td>\n",
       "    </tr>\n",
       "    <tr>\n",
       "      <th>2</th>\n",
       "      <td>Oakland Athletics</td>\n",
       "      <td>American League West</td>\n",
       "      <td>American League</td>\n",
       "    </tr>\n",
       "    <tr>\n",
       "      <th>3</th>\n",
       "      <td>Seattle Mariners</td>\n",
       "      <td>American League West</td>\n",
       "      <td>American League</td>\n",
       "    </tr>\n",
       "    <tr>\n",
       "      <th>4</th>\n",
       "      <td>Texas Rangers</td>\n",
       "      <td>American League West</td>\n",
       "      <td>American League</td>\n",
       "    </tr>\n",
       "  </tbody>\n",
       "</table>\n",
       "</div>"
      ],
      "text/plain": [
       "                 name              division           league\n",
       "0      Houston Astros  American League West  American League\n",
       "1  Los Angeles Angels  American League West  American League\n",
       "2   Oakland Athletics  American League West  American League\n",
       "3    Seattle Mariners  American League West  American League\n",
       "4       Texas Rangers  American League West  American League"
      ]
     },
     "execution_count": 196,
     "metadata": {},
     "output_type": "execute_result"
    }
   ],
   "source": [
    "mlb_standings = pd.concat([division_standings[div] for div in division_standings])\n",
    "mlb_standings = mlb_standings[['name', 'division', 'league']]\n",
    "mlb_standings.head()"
   ]
  },
  {
   "cell_type": "code",
   "execution_count": null,
   "metadata": {},
   "outputs": [],
   "source": []
  },
  {
   "cell_type": "code",
   "execution_count": 282,
   "metadata": {},
   "outputs": [],
   "source": [
    "def find_playoff_teams(mlb_standings):\n",
    "    \"\"\"\n",
    "    Given season standings find playoff teams\n",
    "    \"\"\"\n",
    "    \n",
    "    div_winners = []\n",
    "    \n",
    "    for div in mlb_standings.division.unique():\n",
    "        div_winning_wins = mlb_standings[mlb_standings.division == div].wins.sort_values(ascending=False).values[0]\n",
    "        winning_teams = mlb_standings[(mlb_standings.division == div) & (mlb_standings.wins == div_winning_wins)]\n",
    "        \n",
    "        if winning_teams.shape[0] > 1:\n",
    "            # tiebreak, just pick at random. probably should sim for team strength but gets complicated if there are > 2\n",
    "            winner = winning_teams.name.values[np.random.randint(winning_teams.shape[0])]\n",
    "        else:\n",
    "             winner = winning_teams.name.values[0]\n",
    "        \n",
    "        div_winners.append(winner)\n",
    "    \n",
    "    wild_card = []\n",
    "    wild_card_standings = mlb_standings[~mlb_standings.name.isin(div_winners)]\n",
    "    \n",
    "    for league in mlb_standings.league.unique():\n",
    "        # tiebreak\n",
    "        wc_wins = wild_card_standings[wild_card_standings.league == league].wins.sort_values(ascending=False).values[1]\n",
    "        winning_teams = wild_card_standings[(wild_card_standings.league == league) & (wild_card_standings.wins >= wc_wins)].name.values\n",
    "        #print(\"WC winners\", winning_teams)\n",
    "        if len(winning_teams) > 2:\n",
    "            # tiebreak, just pick TWO at random. Yeah yeah someone might have MORE wins than the rest but oh well\n",
    "            league_wc = np.random.choice(winning_teams, 2, replace=False)\n",
    "        else:\n",
    "            league_wc = winning_teams\n",
    "            \n",
    "        \n",
    "        wild_card.extend(league_wc)\n",
    "        \n",
    "    return {'div_winners':div_winners, 'wild_card':wild_card}\n",
    "        "
   ]
  },
  {
   "cell_type": "code",
   "execution_count": 283,
   "metadata": {},
   "outputs": [],
   "source": [
    "def games_played_for_teams(season):\n",
    "    away_games = season.away_name.value_counts().to_dict()\n",
    "    home_games = season.home_name.value_counts().to_dict()\n",
    "\n",
    "    total_games = {t:away_games[t] + home_games[t] for t in all_teams}\n",
    "    return total_games\n",
    "\n",
    "\n",
    "def shortened_season_stratified(season, target_games):\n",
    "    \"\"\"\n",
    "    Randomly remove games from a season, ensure games for each team are within 1 of target_games\n",
    "    \n",
    "    \"\"\"\n",
    "#     # stratify for away_games\n",
    "#     away_season = stratified_sample_df(season, 'away_name', int(target_games/2))\n",
    "#     # stratify for home_games\n",
    "#     home_season = stratified_sample_df(season, 'home_name', int(target_games/2))\n",
    "    \n",
    "    return season.sample(n=target_games)\n",
    "\n",
    "def shorten_season(season, start_date):\n",
    "    \"\"\"\n",
    "    Shorten a season but make sure all teams play the same amount of game\n",
    "    Also SOS may come into play here, lets just randomly remove games \n",
    "    \n",
    "    \"\"\"\n",
    "    \n",
    "    shortened_season = season[season.game_datetime_obj >= start_date]\n",
    "    \n",
    "    #games_in_season = int(mean(games_played_for_teams(shortened_season).values()))\n",
    "    games_in_season = shortened_season.shape[0]\n",
    "    \n",
    "    stratified_shortened_season = shortened_season_stratified(season, games_in_season)\n",
    "    \n",
    "    return stratified_shortened_season\n",
    "\n",
    "\n",
    "def stratified_sample_df(df, col, n_samples):\n",
    "    n = min(n_samples, df[col].value_counts().min())\n",
    "    df_ = df.groupby(col).apply(lambda x: x.sample(n))\n",
    "    df_.index = df_.index.droplevel(0)\n",
    "    return df_\n",
    "    "
   ]
  },
  {
   "cell_type": "code",
   "execution_count": 287,
   "metadata": {
    "scrolled": false
   },
   "outputs": [
    {
     "data": {
      "application/vnd.jupyter.widget-view+json": {
       "model_id": "7cc698309c9747b184d72f66a061c654",
       "version_major": 2,
       "version_minor": 0
      },
      "text/plain": [
       "HBox(children=(FloatProgress(value=0.0, max=13.0), HTML(value='')))"
      ]
     },
     "metadata": {},
     "output_type": "display_data"
    },
    {
     "data": {
      "application/vnd.jupyter.widget-view+json": {
       "model_id": "ae46cb1fe3ee47ad85d37fbc98f11378",
       "version_major": 2,
       "version_minor": 0
      },
      "text/plain": [
       "HBox(children=(FloatProgress(value=0.0, max=1.0), HTML(value='')))"
      ]
     },
     "metadata": {},
     "output_type": "display_data"
    },
    {
     "name": "stdout",
     "output_type": "stream",
     "text": [
      "\n"
     ]
    },
    {
     "data": {
      "application/vnd.jupyter.widget-view+json": {
       "model_id": "8ba98705cd334721b71cfbe8855291a8",
       "version_major": 2,
       "version_minor": 0
      },
      "text/plain": [
       "HBox(children=(FloatProgress(value=0.0, max=1.0), HTML(value='')))"
      ]
     },
     "metadata": {},
     "output_type": "display_data"
    },
    {
     "name": "stdout",
     "output_type": "stream",
     "text": [
      "\n"
     ]
    },
    {
     "data": {
      "application/vnd.jupyter.widget-view+json": {
       "model_id": "b4eaf1115f0b4c8aa7ecbab781f8445d",
       "version_major": 2,
       "version_minor": 0
      },
      "text/plain": [
       "HBox(children=(FloatProgress(value=0.0, max=1.0), HTML(value='')))"
      ]
     },
     "metadata": {},
     "output_type": "display_data"
    },
    {
     "name": "stdout",
     "output_type": "stream",
     "text": [
      "\n"
     ]
    },
    {
     "data": {
      "application/vnd.jupyter.widget-view+json": {
       "model_id": "078bc56967544252ac8224dfe0c75237",
       "version_major": 2,
       "version_minor": 0
      },
      "text/plain": [
       "HBox(children=(FloatProgress(value=0.0, max=1.0), HTML(value='')))"
      ]
     },
     "metadata": {},
     "output_type": "display_data"
    },
    {
     "name": "stdout",
     "output_type": "stream",
     "text": [
      "\n"
     ]
    },
    {
     "data": {
      "application/vnd.jupyter.widget-view+json": {
       "model_id": "60313ba78f0e4467a48d95a0b524ef46",
       "version_major": 2,
       "version_minor": 0
      },
      "text/plain": [
       "HBox(children=(FloatProgress(value=0.0, max=1.0), HTML(value='')))"
      ]
     },
     "metadata": {},
     "output_type": "display_data"
    },
    {
     "name": "stdout",
     "output_type": "stream",
     "text": [
      "\n"
     ]
    },
    {
     "data": {
      "application/vnd.jupyter.widget-view+json": {
       "model_id": "495221c153eb487fa127bab22539383e",
       "version_major": 2,
       "version_minor": 0
      },
      "text/plain": [
       "HBox(children=(FloatProgress(value=0.0, max=1.0), HTML(value='')))"
      ]
     },
     "metadata": {},
     "output_type": "display_data"
    },
    {
     "name": "stdout",
     "output_type": "stream",
     "text": [
      "\n"
     ]
    },
    {
     "data": {
      "application/vnd.jupyter.widget-view+json": {
       "model_id": "48bdb6fa33d14755a128bedf8fa7471d",
       "version_major": 2,
       "version_minor": 0
      },
      "text/plain": [
       "HBox(children=(FloatProgress(value=0.0, max=1.0), HTML(value='')))"
      ]
     },
     "metadata": {},
     "output_type": "display_data"
    },
    {
     "name": "stdout",
     "output_type": "stream",
     "text": [
      "\n"
     ]
    },
    {
     "data": {
      "application/vnd.jupyter.widget-view+json": {
       "model_id": "74d30a988ebf47ffa6a9b5044463c916",
       "version_major": 2,
       "version_minor": 0
      },
      "text/plain": [
       "HBox(children=(FloatProgress(value=0.0, max=1.0), HTML(value='')))"
      ]
     },
     "metadata": {},
     "output_type": "display_data"
    },
    {
     "name": "stdout",
     "output_type": "stream",
     "text": [
      "\n"
     ]
    },
    {
     "data": {
      "application/vnd.jupyter.widget-view+json": {
       "model_id": "f6aaa7ca3c0d4da9b831adee34d67c1d",
       "version_major": 2,
       "version_minor": 0
      },
      "text/plain": [
       "HBox(children=(FloatProgress(value=0.0, max=1.0), HTML(value='')))"
      ]
     },
     "metadata": {},
     "output_type": "display_data"
    },
    {
     "name": "stdout",
     "output_type": "stream",
     "text": [
      "\n"
     ]
    },
    {
     "data": {
      "application/vnd.jupyter.widget-view+json": {
       "model_id": "1eb1c6828f5240258d82760e55fd118c",
       "version_major": 2,
       "version_minor": 0
      },
      "text/plain": [
       "HBox(children=(FloatProgress(value=0.0, max=1.0), HTML(value='')))"
      ]
     },
     "metadata": {},
     "output_type": "display_data"
    },
    {
     "name": "stdout",
     "output_type": "stream",
     "text": [
      "\n"
     ]
    },
    {
     "data": {
      "application/vnd.jupyter.widget-view+json": {
       "model_id": "821e2b3fd69140a1b319a9174f6e23c8",
       "version_major": 2,
       "version_minor": 0
      },
      "text/plain": [
       "HBox(children=(FloatProgress(value=0.0, max=1.0), HTML(value='')))"
      ]
     },
     "metadata": {},
     "output_type": "display_data"
    },
    {
     "name": "stdout",
     "output_type": "stream",
     "text": [
      "\n"
     ]
    },
    {
     "data": {
      "application/vnd.jupyter.widget-view+json": {
       "model_id": "1c631cf8fc894e2cbbb651e2db9a4fa4",
       "version_major": 2,
       "version_minor": 0
      },
      "text/plain": [
       "HBox(children=(FloatProgress(value=0.0, max=1.0), HTML(value='')))"
      ]
     },
     "metadata": {},
     "output_type": "display_data"
    },
    {
     "name": "stdout",
     "output_type": "stream",
     "text": [
      "\n"
     ]
    },
    {
     "data": {
      "application/vnd.jupyter.widget-view+json": {
       "model_id": "f9b3582f07804aee9c659ac5a6cdaa45",
       "version_major": 2,
       "version_minor": 0
      },
      "text/plain": [
       "HBox(children=(FloatProgress(value=0.0, max=1.0), HTML(value='')))"
      ]
     },
     "metadata": {},
     "output_type": "display_data"
    },
    {
     "name": "stdout",
     "output_type": "stream",
     "text": [
      "\n",
      "\n"
     ]
    }
   ],
   "source": [
    "SEASONS_TO_SIMULATE = 1\n",
    "\n",
    "playoff_apps_by_start_date = {}\n",
    "\n",
    "base = sched_df.game_datetime_obj[0]\n",
    "start_dates = [base + datetime.timedelta(days=x) for x in range(0, 180, 14)]\n",
    "for start_date in tqdm(start_dates):\n",
    "    \n",
    "    playoff_appearances = {t:0 for t in all_teams}\n",
    "    div_wins = {t:0 for t in all_teams}\n",
    "    wc_appearances = {t:0 for t in all_teams}\n",
    "    win_totals = {t:[] for t in all_teams}\n",
    "    \n",
    "    for season in tqdm(range(SEASONS_TO_SIMULATE)):\n",
    "\n",
    "        season = sched_df.copy(deep=True)\n",
    "        season_standings = mlb_standings.copy(deep=True)\n",
    "\n",
    "        # SHORTEN SEASON\n",
    "        season = shorten_season(season, start_date)\n",
    "\n",
    "\n",
    "        season = season[season.game_type == 'R']\n",
    "        season[\"winner\"] = season.apply(simulate_game, axis=1)\n",
    "\n",
    "        games_won = season.winner.value_counts()\n",
    "        for team in all_teams:\n",
    "            if not team in games_won:\n",
    "                games_won[team] = 0\n",
    "        for team in games_won.to_dict():\n",
    "            win_totals[team].append(games_won.to_dict()[team])\n",
    "        season_standings[\"wins\"] = mlb_standings.name.map(lambda x:games_won[x])\n",
    "\n",
    "        playoff_teams = find_playoff_teams(season_standings)\n",
    "\n",
    "\n",
    "        for team in playoff_teams['div_winners']:\n",
    "            playoff_appearances[team] += 1\n",
    "            div_wins[team] += 1\n",
    "\n",
    "        for team in playoff_teams['wild_card']:\n",
    "            playoff_appearances[team] += 1\n",
    "            wc_appearances[team] += 1\n",
    "    \n",
    "    playoff_apps_by_start_date[start_date] = playoff_appearances"
   ]
  },
  {
   "cell_type": "code",
   "execution_count": 277,
   "metadata": {},
   "outputs": [],
   "source": [
    "#sample_teams = ['Los Angeles Dodgers',  'Miami Marlins', 'Washington Nationals', 'Texas Rangers','Los Angeles Angels']\n",
    "\n",
    "sample_items = []\n",
    "sample_teams = all_teams\n",
    "for team in sample_teams:\n",
    "    for dt in playoff_apps_by_start_date:\n",
    "        sample_items.append({'team':team, 'start_date':dt, 'apps':playoff_apps_by_start_date[dt][team]})\n",
    "        \n",
    "playoff_df = pd.DataFrame.from_records(sample_items)"
   ]
  },
  {
   "cell_type": "code",
   "execution_count": 278,
   "metadata": {},
   "outputs": [
    {
     "data": {
      "text/html": [
       "<div>\n",
       "<style scoped>\n",
       "    .dataframe tbody tr th:only-of-type {\n",
       "        vertical-align: middle;\n",
       "    }\n",
       "\n",
       "    .dataframe tbody tr th {\n",
       "        vertical-align: top;\n",
       "    }\n",
       "\n",
       "    .dataframe thead th {\n",
       "        text-align: right;\n",
       "    }\n",
       "</style>\n",
       "<table border=\"1\" class=\"dataframe\">\n",
       "  <thead>\n",
       "    <tr style=\"text-align: right;\">\n",
       "      <th></th>\n",
       "      <th>team</th>\n",
       "      <th>start_date</th>\n",
       "      <th>apps</th>\n",
       "    </tr>\n",
       "  </thead>\n",
       "  <tbody>\n",
       "    <tr>\n",
       "      <th>0</th>\n",
       "      <td>New York Yankees</td>\n",
       "      <td>2020-03-26</td>\n",
       "      <td>9054</td>\n",
       "    </tr>\n",
       "    <tr>\n",
       "      <th>1</th>\n",
       "      <td>New York Yankees</td>\n",
       "      <td>2020-04-09</td>\n",
       "      <td>8857</td>\n",
       "    </tr>\n",
       "    <tr>\n",
       "      <th>2</th>\n",
       "      <td>New York Yankees</td>\n",
       "      <td>2020-04-23</td>\n",
       "      <td>8618</td>\n",
       "    </tr>\n",
       "    <tr>\n",
       "      <th>3</th>\n",
       "      <td>New York Yankees</td>\n",
       "      <td>2020-05-07</td>\n",
       "      <td>8432</td>\n",
       "    </tr>\n",
       "    <tr>\n",
       "      <th>4</th>\n",
       "      <td>New York Yankees</td>\n",
       "      <td>2020-05-21</td>\n",
       "      <td>8251</td>\n",
       "    </tr>\n",
       "  </tbody>\n",
       "</table>\n",
       "</div>"
      ],
      "text/plain": [
       "               team start_date  apps\n",
       "0  New York Yankees 2020-03-26  9054\n",
       "1  New York Yankees 2020-04-09  8857\n",
       "2  New York Yankees 2020-04-23  8618\n",
       "3  New York Yankees 2020-05-07  8432\n",
       "4  New York Yankees 2020-05-21  8251"
      ]
     },
     "execution_count": 278,
     "metadata": {},
     "output_type": "execute_result"
    }
   ],
   "source": [
    "playoff_df.head()"
   ]
  },
  {
   "cell_type": "code",
   "execution_count": 279,
   "metadata": {},
   "outputs": [
    {
     "data": {
      "text/plain": [
       "<matplotlib.axes._subplots.AxesSubplot at 0x11be971d0>"
      ]
     },
     "execution_count": 279,
     "metadata": {},
     "output_type": "execute_result"
    },
    {
     "data": {
      "image/png": "[encoded data removed]",
      "text/plain": [
       "<Figure size 720x720 with 1 Axes>"
      ]
     },
     "metadata": {
      "needs_background": "light"
     },
     "output_type": "display_data"
    }
   ],
   "source": [
    "plot_df = playoff_df.pivot(index='start_date', columns='team', values='apps')\n",
    "plot_df.plot(figsize=(10, 10))"
   ]
  },
  {
   "cell_type": "code",
   "execution_count": 280,
   "metadata": {},
   "outputs": [],
   "source": [
    "playoff_odds_by_date = {}\n",
    "\n",
    "for date in playoff_apps_by_start_date:\n",
    "    playoff_odds_by_date[date.strftime(\"%Y-%m-%d\")] = {}\n",
    "    for team in playoff_apps_by_start_date[date]:\n",
    "        playoff_odds_by_date[date.strftime(\"%Y-%m-%d\")][team] = playoff_apps_by_start_date[date][team]/SEASONS_TO_SIMULATE\n",
    "\n",
    "with open(\"final_odds.json\",'w') as fp:\n",
    "    fp.write(json.dumps(playoff_odds_by_date, indent=4))\n"
   ]
  }
 ],
 "metadata": {
  "kernelspec": {
   "display_name": "Python 3",
   "language": "python",
   "name": "python3"
  },
  "language_info": {
   "codemirror_mode": {
    "name": "ipython",
    "version": 3
   },
   "file_extension": ".py",
   "mimetype": "text/x-python",
   "name": "python",
   "nbconvert_exporter": "python",
   "pygments_lexer": "ipython3",
   "version": "3.7.6"
  }
 },
 "nbformat": 4,
 "nbformat_minor": 4
}
